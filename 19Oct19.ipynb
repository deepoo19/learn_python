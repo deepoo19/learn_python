{
 "cells": [
  {
   "cell_type": "code",
   "execution_count": 1,
   "metadata": {},
   "outputs": [
    {
     "data": {
      "text/plain": [
       "5"
      ]
     },
     "execution_count": 1,
     "metadata": {},
     "output_type": "execute_result"
    }
   ],
   "source": [
    "a=2\n",
    "b=3\n",
    "a+b"
   ]
  },
  {
   "cell_type": "code",
   "execution_count": 4,
   "metadata": {
    "scrolled": true
   },
   "outputs": [
    {
     "name": "stdout",
     "output_type": "stream",
     "text": [
      "give a= 1\n",
      "give b= 1\n",
      "Sum of 1 and 1 is 2\n"
     ]
    }
   ],
   "source": [
    "a = int(input(\"give a= \"))\n",
    "b = int(input(\"give b= \"))\n",
    "add = a+b\n",
    "print(\"Sum of \"+str(a)+\" and \"+str(b)+\" is \"+str(add))"
   ]
  },
  {
   "cell_type": "code",
   "execution_count": 5,
   "metadata": {},
   "outputs": [
    {
     "name": "stdout",
     "output_type": "stream",
     "text": [
      "yo1\n"
     ]
    }
   ],
   "source": [
    "a=2\n",
    "if a==2:\n",
    "    print(\"yo1\")"
   ]
  },
  {
   "cell_type": "code",
   "execution_count": 9,
   "metadata": {},
   "outputs": [
    {
     "name": "stdout",
     "output_type": "stream",
     "text": [
      "1 is not divi by 5\n",
      "2 is not divi by 5\n",
      "3 is not divi by 5\n",
      "4 is not divi by 5\n",
      "5 is divisible by 5\n",
      "6 is not divi by 5\n",
      "7 is not divi by 5\n",
      "8 is not divi by 5\n",
      "9 is not divi by 5\n",
      "10 is divisible by 5\n",
      "11 is not divi by 5\n",
      "12 is not divi by 5\n",
      "13 is not divi by 5\n",
      "14 is not divi by 5\n",
      "15 is divisible by 5\n",
      "16 is not divi by 5\n",
      "17 is not divi by 5\n",
      "18 is not divi by 5\n",
      "19 is not divi by 5\n",
      "20 is divisible by 5\n",
      "21 is not divi by 5\n",
      "22 is not divi by 5\n",
      "23 is not divi by 5\n",
      "24 is not divi by 5\n",
      "25 is divisible by 5\n",
      "26 is not divi by 5\n",
      "27 is not divi by 5\n",
      "28 is not divi by 5\n",
      "29 is not divi by 5\n",
      "30 is divisible by 5\n",
      "31 is not divi by 5\n",
      "32 is not divi by 5\n",
      "33 is not divi by 5\n",
      "34 is not divi by 5\n",
      "35 is divisible by 5\n",
      "36 is not divi by 5\n",
      "37 is not divi by 5\n",
      "38 is not divi by 5\n",
      "39 is not divi by 5\n",
      "40 is divisible by 5\n",
      "41 is not divi by 5\n",
      "42 is not divi by 5\n",
      "43 is not divi by 5\n",
      "44 is not divi by 5\n",
      "45 is divisible by 5\n",
      "46 is not divi by 5\n",
      "47 is not divi by 5\n",
      "48 is not divi by 5\n",
      "49 is not divi by 5\n",
      "50 is divisible by 5\n",
      "51 is not divi by 5\n",
      "52 is not divi by 5\n",
      "53 is not divi by 5\n",
      "54 is not divi by 5\n",
      "55 is divisible by 5\n",
      "56 is not divi by 5\n",
      "57 is not divi by 5\n",
      "58 is not divi by 5\n",
      "59 is not divi by 5\n",
      "60 is divisible by 5\n",
      "61 is not divi by 5\n",
      "62 is not divi by 5\n",
      "63 is not divi by 5\n",
      "64 is not divi by 5\n",
      "65 is divisible by 5\n",
      "66 is not divi by 5\n",
      "67 is not divi by 5\n",
      "68 is not divi by 5\n",
      "69 is not divi by 5\n",
      "70 is divisible by 5\n",
      "71 is not divi by 5\n",
      "72 is not divi by 5\n",
      "73 is not divi by 5\n",
      "74 is not divi by 5\n",
      "75 is divisible by 5\n",
      "76 is not divi by 5\n",
      "77 is not divi by 5\n",
      "78 is not divi by 5\n",
      "79 is not divi by 5\n",
      "80 is divisible by 5\n",
      "81 is not divi by 5\n",
      "82 is not divi by 5\n",
      "83 is not divi by 5\n",
      "84 is not divi by 5\n",
      "85 is divisible by 5\n",
      "86 is not divi by 5\n",
      "87 is not divi by 5\n",
      "88 is not divi by 5\n",
      "89 is not divi by 5\n",
      "90 is divisible by 5\n",
      "91 is not divi by 5\n",
      "92 is not divi by 5\n",
      "93 is not divi by 5\n",
      "94 is not divi by 5\n",
      "95 is divisible by 5\n",
      "96 is not divi by 5\n",
      "97 is not divi by 5\n",
      "98 is not divi by 5\n",
      "99 is not divi by 5\n",
      "100 is divisible by 5\n"
     ]
    }
   ],
   "source": [
    "i=1\n",
    "while i < 101:\n",
    "    if i % 5 ==0:\n",
    "        print(\"{} is divisible by 5\".format(i))\n",
    "    else:\n",
    "        print(\"{} is not divi by 5\".format(i))\n",
    "    i+=1"
   ]
  },
  {
   "cell_type": "code",
   "execution_count": null,
   "metadata": {},
   "outputs": [],
   "source": []
  }
 ],
 "metadata": {
  "kernelspec": {
   "display_name": "Python 3",
   "language": "python",
   "name": "python3"
  },
  "language_info": {
   "codemirror_mode": {
    "name": "ipython",
    "version": 3
   },
   "file_extension": ".py",
   "mimetype": "text/x-python",
   "name": "python",
   "nbconvert_exporter": "python",
   "pygments_lexer": "ipython3",
   "version": "3.7.4"
  }
 },
 "nbformat": 4,
 "nbformat_minor": 4
}
